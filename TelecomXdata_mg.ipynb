{
  "nbformat": 4,
  "nbformat_minor": 0,
  "metadata": {
    "colab": {
      "provenance": [],
      "toc_visible": true,
      "authorship_tag": "ABX9TyOE2Z/40N861ab5p0luzmpj",
      "include_colab_link": true
    },
    "kernelspec": {
      "name": "python3",
      "display_name": "Python 3"
    },
    "language_info": {
      "name": "python"
    }
  },
  "cells": [
    {
      "cell_type": "markdown",
      "metadata": {
        "id": "view-in-github",
        "colab_type": "text"
      },
      "source": [
        "<a href=\"https://colab.research.google.com/github/mg253a/Challenge_Telecom_-X_MG/blob/main/TelecomXdata_mg.ipynb\" target=\"_parent\"><img src=\"https://colab.research.google.com/assets/colab-badge.svg\" alt=\"Open In Colab\"/></a>"
      ]
    },
    {
      "cell_type": "markdown",
      "source": [
        "#**CHALLENGE : Telecom X análisis de evasión de clientes**"
      ],
      "metadata": {
        "id": "z_QiftGPyS44"
      }
    },
    {
      "cell_type": "markdown",
      "source": [
        "# **Objetivo**"
      ],
      "metadata": {
        "id": "UZatzHh7yj7k"
      }
    },
    {
      "cell_type": "markdown",
      "source": [
        "✅ Importar y manipular datos desde una API de manera eficiente.\n",
        "\n",
        "✅ Aplicar los conceptos de ETL (Extracción, Transformación y Carga) en la preparación de los datos.\n",
        "\n",
        "✅ Crear visualizaciones estratégicas para identificar patrones y tendencias.\n",
        "\n",
        "✅ Realizar un Análisis Exploratorio de Datos (EDA) y generar un informe con insights relevantes.\n"
      ],
      "metadata": {
        "id": "mnw_MJN2yr7_"
      }
    },
    {
      "cell_type": "markdown",
      "source": [
        "# 📌 **Extracción(E - Extract)**"
      ],
      "metadata": {
        "id": "5NcLIjSTy_S7"
      }
    },
    {
      "cell_type": "markdown",
      "source": [
        "##*Extracción de los datos*\n"
      ],
      "metadata": {
        "id": "0nfBQf_JBgtv"
      }
    },
    {
      "cell_type": "markdown",
      "source": [
        "Para iniciar el análisis, necesitaremos importar los datos de la API de Telecom X. Estos datos están disponibles en formato JSON y contienen información esencial sobre los clientes, incluyendo datos demográficos, tipo de servicio contratado y estado de evasión.\n",
        "\n",
        "📌 Enlace de la API:\n",
        "\n",
        "🔗 https://github.com/mg253a/Challenge_Telecom_-X_MG/blob/main/TelecomX_Data.json\n",
        "\n",
        "\n",
        "🔗 https://github.com/mg253a/Challenge_Telecom_-X_MG"
      ],
      "metadata": {
        "id": "O0gDfvwozNrq"
      }
    },
    {
      "cell_type": "markdown",
      "source": [
        "##*¿Qué hay que hacer?*"
      ],
      "metadata": {
        "id": "BggORj9xB1qw"
      }
    },
    {
      "cell_type": "markdown",
      "source": [
        "\n",
        "✅ Cargar los datos directamente desde la API utilizando Python.\n",
        "\n",
        "✅ Convertir los datos a un DataFrame de Pandas para facilitar su manipulación.\n",
        "\n",
        "Este es el primer paso para transformar los datos en información valiosa."
      ],
      "metadata": {
        "id": "Htu8Pxj-Bonn"
      }
    },
    {
      "cell_type": "markdown",
      "source": [
        "#🔧**Transformación (T - Transform)**"
      ],
      "metadata": {
        "id": "FnMl4dbZ0WNd"
      }
    },
    {
      "cell_type": "markdown",
      "source": [
        "##*Conoce el conjunto de datos*"
      ],
      "metadata": {
        "id": "aqFAZuobCC5y"
      }
    },
    {
      "cell_type": "markdown",
      "source": [
        "Ahora que extraímos los datos, es fundamental comprender la estructura del dataset y el significado de sus columnas. Esta etapa ayudará a identificar qué variables son más relevantes para el análisis de evasión de clientes.\n",
        "\n",
        "📌 Para facilitar este proceso, se ha creado un diccionario de datos con la descripción de cada columna. Aunque no es obligatorio utilizarlo, podemos ayudarnos a comprender mejor la información disponible.\n",
        "\n",
        "🔗 Enlace al diccionario y a la API\n"
      ],
      "metadata": {
        "id": "cnBbgCWl0bLA"
      }
    },
    {
      "cell_type": "markdown",
      "source": [
        "##*¿Qué hay que hacer?*"
      ],
      "metadata": {
        "id": "3Wt6GXuYCZwK"
      }
    },
    {
      "cell_type": "markdown",
      "source": [
        "✅ Explorar las columnas del dataset y verificar sus tipos de datos.\n",
        "\n",
        "✅ Consultar el diccionario para comprender mejor el significado de las variables.\n",
        "\n",
        "✅ Identificar las columnas más relevantes para el análisis de evasión.\n",
        "\n",
        "📌 Tips:\n",
        "\n",
        "🔗 Documentación de DataFrame.info()\n",
        "\n",
        "🔗 Documentación de DataFrame.dtype"
      ],
      "metadata": {
        "id": "O4nfURTrCI2l"
      }
    },
    {
      "cell_type": "markdown",
      "source": [],
      "metadata": {
        "id": "CxEsq4w6CXJ8"
      }
    },
    {
      "cell_type": "markdown",
      "source": [
        "##*Comprobación de incoherencias en los datos*"
      ],
      "metadata": {
        "id": "RUJqjXQ5EDYY"
      }
    },
    {
      "cell_type": "markdown",
      "source": [
        "En este paso, verificar si hay problemas en los datos que puedan afectar el análisis. Prestar atención a valores ausentes, duplicados, errores de formato e inconsistencias en las categorías. Este proceso es esencial para asegurarte de que los datos estén listos para las siguientes etapas.\n",
        "\n",
        "📌 Tips:\n",
        "\n",
        "🔗 Documentación de pandas.unique()\n",
        "\n",
        "🔗 Documentación de pandas.Series.dt.normalize()\n"
      ],
      "metadata": {
        "id": "ZD__T1HeEK8C"
      }
    },
    {
      "cell_type": "markdown",
      "source": [
        "##*Manejo de inconsistencias*"
      ],
      "metadata": {
        "id": "hleRxRJUEZ4j"
      }
    },
    {
      "cell_type": "markdown",
      "source": [
        "Ahora que se ha identificado las inconsistencias, es momento de aplicar las correcciones necesarias. Ajustar los datos para asegurarte de que estén completos y coherentes, preparándolos para las siguientes etapas del análisis.\n",
        "\n",
        "📌 Tips:\n",
        "\n",
        "🔗 https://www.aluracursos.com/blog/manipulacion-de-strings-en-pandas-lower-replace-startswith-y-contains\n"
      ],
      "metadata": {
        "id": "dq59s3CsEnjO"
      }
    },
    {
      "cell_type": "markdown",
      "source": [
        "##*Columna de cuentas diarias*"
      ],
      "metadata": {
        "id": "3GCg_avwE0Va"
      }
    },
    {
      "cell_type": "markdown",
      "source": [
        "Ahora que los datos están limpios, es momento de crear la columna \"Cuentas_Diarias\". Utilizar la facturación mensual para calcular el valor diario, proporcionando una visión más detallada del comportamiento de los clientes a lo largo del tiempo.\n",
        "\n",
        "📌 Esta columna ayudará a profundizar en el análisis y a obtener información valiosa para las siguientes etapas.\n"
      ],
      "metadata": {
        "id": "YiS_edeVE4Va"
      }
    },
    {
      "cell_type": "markdown",
      "source": [
        "# 📊**Carga y análisis(L - Load & Analysis)**"
      ],
      "metadata": {
        "id": "_K_l5pBCFmNG"
      }
    },
    {
      "cell_type": "markdown",
      "source": [
        "##*Análisis Descriptivo*"
      ],
      "metadata": {
        "id": "r8RnPG-IF2gY"
      }
    },
    {
      "cell_type": "markdown",
      "source": [
        "Para comenzar, realiza un análisis descriptivo de los datos, calculando métricas como media, mediana, desviación estándar y otras medidas que ayuden a comprender mejor la distribución y el comportamiento de los clientes.\n",
        "\n",
        "📌 Consejos:\n",
        "\n",
        "🔗 Documentación de DataFrame.describe()\n"
      ],
      "metadata": {
        "id": "upNA2Z_NF7wF"
      }
    },
    {
      "cell_type": "markdown",
      "source": [
        "##*Distribución de evasión*"
      ],
      "metadata": {
        "id": "2dQervowGCmK"
      }
    },
    {
      "cell_type": "markdown",
      "source": [
        "En este paso, el objetivo es comprender cómo está distribuida la variable \"churn\" (evasión) entre los clientes. Utilizar gráficos para visualizar la proporción de clientes que permanecieron y los que se dieron de baja.\n",
        "\n",
        "Recuento de evasión por variables categóricas\n",
        "Ahora, exploraremos cómo se distribuye la evasión según variables categóricas, como género, tipo de contrato, método de pago, entre otras.\n",
        "Este análisis puede revelar patrones interesantes, por ejemplo, si los clientes de ciertos perfiles tienen una mayor tendencia a cancelar el servicio, lo que ayudará a orientar acciones estratégicas.\n"
      ],
      "metadata": {
        "id": "68hnDGerGHYx"
      }
    },
    {
      "cell_type": "markdown",
      "source": [
        "##*Conteo de evasión por variables numéricas*"
      ],
      "metadata": {
        "id": "ZRchkRMHGSTd"
      }
    },
    {
      "cell_type": "markdown",
      "source": [
        "En este paso, exploramos cómo las variables numéricas, como \"total gastado\" o \"tiempo de contrato\", se distribuyen entre los clientes que cancelaron (evasión) y los que no cancelaron.\n",
        "Este análisis ayuda a entender si ciertos valores numéricos están más asociados con la evasión, proporcionando insights sobre los factores que influyen en el comportamiento de los clientes.\n"
      ],
      "metadata": {
        "id": "7oKuJx_YGXoQ"
      }
    },
    {
      "cell_type": "markdown",
      "source": [],
      "metadata": {
        "id": "eviYUudmGiYR"
      }
    },
    {
      "cell_type": "markdown",
      "source": [
        "# **¡Extra! Análisis de correlación entre variables**"
      ],
      "metadata": {
        "id": "sinJm4imG1Z3"
      }
    },
    {
      "cell_type": "markdown",
      "source": [
        "Como paso adicional, ahora exploramos la correlación entre diferentes variables del dataset. Esto puede ayudar a identificar qué factores tienen mayor relación con la evasión de clientes, como:\n",
        "\n",
        "🔹 La relación entre la cuenta diaria y la evasión.\n",
        "\n",
        "🔹 Cómo la cantidad de servicios contratados afecta la probabilidad de churn.\n",
        "\n",
        "Usaremos la función corr() de Pandas para calcular las correlaciones y visualizar los resultados con gráficos de dispersión o matrices de correlación.\n",
        "Este análisis adicional puede proporcionar insights valiosos para la creación de modelos predictivos más robustos. 🚀\n"
      ],
      "metadata": {
        "id": "UHN5ri6qHClY"
      }
    },
    {
      "cell_type": "markdown",
      "source": [],
      "metadata": {
        "id": "X2s6A6ZVHkT4"
      }
    },
    {
      "cell_type": "markdown",
      "source": [
        "# **Informe final**"
      ],
      "metadata": {
        "id": "JMdZUeaVHku3"
      }
    },
    {
      "cell_type": "markdown",
      "source": [
        "Elaborando un informe, en el notebook, que resuma todo el trabajo realizado. El informe debe incluir:\n",
        "\n",
        "🔹 Introducción: Explica el objetivo del análisis y el problema de evasión de clientes (Churn).\n",
        "\n",
        "🔹 Limpieza y Tratamiento de Datos: Describe los pasos realizados para importar, limpiar y procesar los datos.\n",
        "\n",
        "🔹 Análisis Exploratorio de Datos: Presenta los análisis realizados, incluyendo gráficos y visualizaciones para identificar patrones.\n",
        "\n",
        "🔹 Conclusiones e Insights: Resume los principales hallazgos y cómo estos datos pueden ayudar a reducir la evasión.\n",
        "\n",
        "🔹 Recomendaciones: Ofrece sugerencias estratégicas basadas en tu análisis.\n",
        "\n",
        "Asegúrarse de que el informe esté bien estructurado, claro y respaldado por visualizaciones que refuercen las conclusiones"
      ],
      "metadata": {
        "id": "V39EetG_HdZd"
      }
    }
  ]
}
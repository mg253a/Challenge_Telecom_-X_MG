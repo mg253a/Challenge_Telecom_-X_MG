{
  "nbformat": 4,
  "nbformat_minor": 0,
  "metadata": {
    "colab": {
      "provenance": [],
      "toc_visible": true,
      "authorship_tag": "ABX9TyNZUc2OZYWaPeY/wZfY6Ozs",
      "include_colab_link": true
    },
    "kernelspec": {
      "name": "python3",
      "display_name": "Python 3"
    },
    "language_info": {
      "name": "python"
    }
  },
  "cells": [
    {
      "cell_type": "markdown",
      "metadata": {
        "id": "view-in-github",
        "colab_type": "text"
      },
      "source": [
        "<a href=\"https://colab.research.google.com/github/mg253a/Challenge_Telecom_-X_MG/blob/main/TelecomXdata_mg.ipynb\" target=\"_parent\"><img src=\"https://colab.research.google.com/assets/colab-badge.svg\" alt=\"Open In Colab\"/></a>"
      ]
    },
    {
      "cell_type": "markdown",
      "source": [
        "#**CHALLENGE : Telecom X análisis de evasión de clientes**"
      ],
      "metadata": {
        "id": "z_QiftGPyS44"
      }
    },
    {
      "cell_type": "markdown",
      "source": [
        "# **Objetivo**"
      ],
      "metadata": {
        "id": "UZatzHh7yj7k"
      }
    },
    {
      "cell_type": "markdown",
      "source": [
        "✅ Importar y manipular datos desde una API de manera eficiente.\n",
        "\n",
        "✅ Aplicar los conceptos de ETL (Extracción, Transformación y Carga) en la preparación de los datos.\n",
        "\n",
        "✅ Crear visualizaciones estratégicas para identificar patrones y tendencias.\n",
        "\n",
        "✅ Realizar un Análisis Exploratorio de Datos (EDA) y generar un informe con insights relevantes.\n"
      ],
      "metadata": {
        "id": "mnw_MJN2yr7_"
      }
    },
    {
      "cell_type": "markdown",
      "source": [
        "# 📌 Extracción(E - Extract)"
      ],
      "metadata": {
        "id": "5NcLIjSTy_S7"
      }
    },
    {
      "cell_type": "markdown",
      "source": [
        "Extracción de los datos\n",
        "\n",
        "Para iniciar el análisis, necesitaremos importar los datos de la API de Telecom X. Estos datos están disponibles en formato JSON y contienen información esencial sobre los clientes, incluyendo datos demográficos, tipo de servicio contratado y estado de evasión.\n",
        "\n",
        "📌 Enlace de la API:\n",
        "\n",
        "🔗 https://github.com/ingridcristh/challenge2-data-science-LATAM/blob/main/TelecomX_Data.json\n",
        "\n",
        "🔗https://github.com/ingridcristh/challenge2-data-science-LATAM\n",
        "\n",
        "¿Qué hay que hacer?\n",
        "\n",
        "✅ Cargar los datos directamente desde la API utilizando Python.\n",
        "\n",
        "✅ Convertir los datos a un DataFrame de Pandas para facilitar su manipulación.\n",
        "\n",
        "Este es el primer paso para transformar los datos en información valiosa.\n"
      ],
      "metadata": {
        "id": "O0gDfvwozNrq"
      }
    },
    {
      "cell_type": "markdown",
      "source": [
        "#🔧Transformación (T - Transform)"
      ],
      "metadata": {
        "id": "FnMl4dbZ0WNd"
      }
    },
    {
      "cell_type": "markdown",
      "source": [
        "Conoce el conjunto de datos\n",
        "\n",
        "Ahora que extraímos los datos, es fundamental comprender la estructura del dataset y el significado de sus columnas. Esta etapa ayudará a identificar qué variables son más relevantes para el análisis de evasión de clientes.\n",
        "\n",
        "📌 Para facilitar este proceso, se ha creado un diccionario de datos con la descripción de cada columna. Aunque no es obligatorio utilizarlo, podemos ayudarnos a comprender mejor la información disponible.\n",
        "\n",
        "🔗 Enlace al diccionario y a la API\n",
        "\n",
        "¿Qué hay que hacer?\n",
        "\n",
        "✅ Explorar las columnas del dataset y verificar sus tipos de datos.\n",
        "\n",
        "✅ Consultar el diccionario para comprender mejor el significado de las variables.\n",
        "\n",
        "✅ Identificar las columnas más relevantes para el análisis de evasión.\n",
        "\n",
        "📌 Tips:\n",
        "\n",
        "🔗 Documentación de DataFrame.info()\n",
        "\n",
        "🔗 Documentación de DataFrame.dtype\n"
      ],
      "metadata": {
        "id": "cnBbgCWl0bLA"
      }
    }
  ]
}